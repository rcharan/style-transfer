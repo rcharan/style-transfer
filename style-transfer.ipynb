{
 "cells": [
  {
   "cell_type": "markdown",
   "metadata": {},
   "source": [
    "https://colab.research.google.com/github/rcharan/style-transfer/blob/master/style-transfer.ipynb"
   ]
  },
  {
   "cell_type": "code",
   "execution_count": 1,
   "metadata": {},
   "outputs": [],
   "source": [
    "# Attempt Colab setup if on Colab\n",
    "try:\n",
    "  import google.colab\n",
    "except:\n",
    "  ALLOW_IO = False\n",
    "else:\n",
    "  # Mount Google Drive at data_dir\n",
    "  #  (for data)\n",
    "  from google.colab import drive\n",
    "  from os.path import join\n",
    "  ROOT = '/content/drive'\n",
    "  DATA = 'My Drive/style-transfers'\n",
    "  drive.mount(ROOT)\n",
    "  ALLOW_IO = True\n",
    "  data_dir = join(ROOT, DATA)\n",
    "  !mkdir \"{data_dir}\"     # in case we haven't created it already   \n",
    "\n",
    "  # Pull in code from github\n",
    "  %cd /content\n",
    "  github_repo = 'https://github.com/rcharan/style-transfer'\n",
    "  !git clone -b master {github_repo}\n",
    "  %cd /content/phutball\n",
    "  \n",
    "  # Point python to code base\n",
    "  import sys\n",
    "  sys.path.append('/content/style-transfer/')\n"
   ]
  },
  {
   "cell_type": "code",
   "execution_count": null,
   "metadata": {},
   "outputs": [],
   "source": []
  }
 ],
 "metadata": {
  "kernelspec": {
   "display_name": "PyTorch",
   "language": "python",
   "name": "torch"
  },
  "language_info": {
   "codemirror_mode": {
    "name": "ipython",
    "version": 3
   },
   "file_extension": ".py",
   "mimetype": "text/x-python",
   "name": "python",
   "nbconvert_exporter": "python",
   "pygments_lexer": "ipython3",
   "version": "3.7.6"
  }
 },
 "nbformat": 4,
 "nbformat_minor": 2
}
